{
 "cells": [
  {
   "cell_type": "markdown",
   "metadata": {},
   "source": [
    "## Mean and variance of groups generations"
   ]
  },
  {
   "cell_type": "code",
   "execution_count": 68,
   "metadata": {},
   "outputs": [
    {
     "name": "stdout",
     "output_type": "stream",
     "text": [
      "0.5\n",
      "[0.01337951 0.8016262  0.26913064 ... 0.18641688 0.72213825 0.1840165 ]\n",
      "[1. 1. 1. ... 1. 1. 1.]\n",
      "[0.44533038 0.77959115 0.90095199 ... 0.75787808 0.91474028 0.75349285]\n",
      "0.5\n",
      "[0.66729078 0.13244493 0.40954555 ... 1.01506435 1.43686852 0.88262123]\n",
      "[1. 1. 1. ... 0. 0. 1.]\n",
      "[0.99292933 0.6580988  1.07138513 ... 0.39917822 0.03800325 0.63014776]\n",
      "0.5\n",
      "[0.50832141 0.70141582 0.77151173 ... 0.62788642 0.0911737  0.52384758]\n",
      "[1. 1. 1. ... 1. 1. 1.]\n",
      "[1.10528734 0.94609608 0.83301115 ... 1.0382829  0.58190835 1.10316951]\n",
      "0.5\n",
      "[1.25941841 0.4057633  0.51581061 ... 0.63337249 1.07531685 0.39230704]\n",
      "[0. 1. 1. ... 1. 0. 1.]\n",
      "[0.12072749 1.06851508 1.10452053 ... 1.03258408 0.31017198 1.05742403]\n",
      "0.5\n",
      "[0.39491461 0.00393279 0.17690927 ... 0.69432168 0.83550096 0.70514752]\n",
      "[1. 1. 1. ... 1. 1. 1.]\n",
      "[1.05967934 0.42973513 0.74046477 ... 0.95635062 0.71758591 0.9406002 ]\n",
      "0.5\n",
      "[0.86832107 1.03782154 0.14031719 ... 0.63473825 1.07980278 0.57859807]\n",
      "[1. 0. 1. ... 1. 0. 1.]\n",
      "[0.65667586 0.36408917 0.67272667 ... 1.03113317 0.30406117 1.07966309]\n",
      "0.5\n",
      "[0.63881779 0.54484223 0.69818931 ... 0.66001023 0.25194304 0.86605319]\n",
      "[1. 1. 1. ... 1. 1. 1.]\n",
      "[1.02672383 1.09707733 0.95079183 ... 1.00205678 0.8729189  0.66088904]\n",
      "0.5\n",
      "[ 0.52429359  0.2921143   0.08935411 ...  0.31896219 -0.12213256\n",
      "  1.33818534]\n",
      "[1. 1. 1. ... 1. 0. 0.]\n",
      "[1.10307855 0.93652414 0.57858597 ... 0.9748384  0.25009945 0.07446406]\n"
     ]
    }
   ],
   "source": [
    "proba_b_better_a = []\n",
    "expected_loss_a = []\n",
    "expected_loss_b = []\n",
    "\n",
    "for day in range( len ( df1 ) ):\n",
    "\n",
    "\n",
    "    u_a , var_a = stats.beta.stats( a = 1 + df1.loc[day, 'acc_clicks_A'], \\\n",
    "                                b = 1 + (df1.loc[day, 'acc_visits_A'] - df1.loc[day, 'acc_clicks_A']), moments='mv')\n",
    "    u_b , var_b = stats.beta.stats( a = 1 + df1.loc[day, 'clicks_B'], \\\n",
    "                                b = 1 + (df1.loc[day, 'visits_B'] - df1.loc[day, 'clicks_B']), moments='mv')\n",
    "\n",
    "\n",
    "    # Normal distribution Sample A and B\n",
    "    x_a = np.random.normal( loc = u_a, scale = 1.25*np.sqrt( var_a ) ,size = N_mc)\n",
    "    x_b = np.random.normal( loc = u_b, scale = 1.25*np.sqrt( var_b ) ,size = N_mc)\n",
    "\n",
    "\n",
    "    # Norm distribution function of page A nad page B\n",
    "    fa = stats.beta.pdf ( x_a, \n",
    "                         a = 1 + df1.loc[day, 'acc_clicks_A'], \n",
    "                         b = 1 + ( df1.loc[day, 'acc_visits_A'] - df1.loc[day, 'acc_clicks_A']))\n",
    "\n",
    "    fb = stats.beta.pdf ( x_b,\n",
    "                        a = 1 + df1.loc[day, 'clicks_B'],\n",
    "                        b = 1 + ( df1.loc[day, 'visits_B'] - df1.loc[day, 'clicks_B'] ))\n",
    "    \n",
    "\n",
    "    # Beta distribution function of page A and B\n",
    "    ga = stats.norm.pdf( x_a, loc = u_a, scale = 1.25*np.sqrt( var_a ))\n",
    "    gb = stats.norm.pdf( x_b, loc = u_b, scale = 1.25*np.sqrt( var_b ))\n",
    "    \n",
    "\n",
    "    # Beta / Normal\n",
    "    y = ( fa*fb ) / ( ga*gb )\n",
    "    yb = y[x_b >= x_a]\n",
    "    \n",
    "    #Calculate probabilities\n",
    "    p = ( 1/ N_mc ) * np.sum(yb)\n",
    "\n",
    "    expected_loss_A = (1 / N_mc ) * np.sum ( ( ( x_b - x_a )*y) [x_b >= x_a] )\n",
    "    expected_loss_B = (1 / N_mc ) * np.sum ( ( ( x_a - x_b )*y) [x_a >= x_b] )\n",
    "\n",
    "    proba_b_better_a.append(p)\n",
    "    expected_loss_a.append( expected_loss_A )\n",
    "    expected_loss_b.append( expected_loss_B )"
   ]
  }
 ],
 "metadata": {
  "kernelspec": {
   "display_name": "bayesian_env",
   "language": "python",
   "name": "python3"
  },
  "language_info": {
   "codemirror_mode": {
    "name": "ipython",
    "version": 3
   },
   "file_extension": ".py",
   "mimetype": "text/x-python",
   "name": "python",
   "nbconvert_exporter": "python",
   "pygments_lexer": "ipython3",
   "version": "3.10.4"
  },
  "orig_nbformat": 4,
  "vscode": {
   "interpreter": {
    "hash": "32e9215ce98cd27798988c7873799595e1e95c56a1d150eafb7c93f490c8f63b"
   }
  }
 },
 "nbformat": 4,
 "nbformat_minor": 2
}
